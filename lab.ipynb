{
 "cells": [
  {
   "cell_type": "markdown",
   "metadata": {},
   "source": [
    "Lab-1"
   ]
  },
  {
   "cell_type": "code",
   "execution_count": 3,
   "metadata": {},
   "outputs": [
    {
     "name": "stdout",
     "output_type": "stream",
     "text": [
      "2\n",
      "1\n",
      "2\n",
      "1\n"
     ]
    }
   ],
   "source": [
    "print(2%3)\n",
    "print(7%3)\n",
    "print(-7%3)\n",
    "print(-2%3)"
   ]
  },
  {
   "cell_type": "code",
   "execution_count": 4,
   "metadata": {},
   "outputs": [
    {
     "name": "stdout",
     "output_type": "stream",
     "text": [
      "1\n"
     ]
    }
   ],
   "source": [
    "def egcd(a,b):\n",
    "    r1=max(a,b)\n",
    "    r2=min(a,b)\n",
    "    if r2!=0:\n",
    "        q=r1//r2\n",
    "        r=r1%r2\n",
    "        r1=r2\n",
    "        r2=r\n",
    "        return egcd(r1,r2)\n",
    "    return r1\n",
    "if __name__=='__main__':\n",
    "    print(egcd(9,26))"
   ]
  },
  {
   "cell_type": "code",
   "execution_count": 24,
   "metadata": {},
   "outputs": [
    {
     "name": "stdout",
     "output_type": "stream",
     "text": [
      "7\n"
     ]
    }
   ],
   "source": [
    "x,y=0,1\n",
    "def gcd(a,b):\n",
    "    global x,y\n",
    "    if (a==0):\n",
    "        x=0\n",
    "        y=1\n",
    "        return b\n",
    "    gc=gcd(b%a,a)\n",
    "    x1=x\n",
    "    y1=y\n",
    "    x=y1-(b//a)*x1\n",
    "    y=x1\n",
    "    return gc\n",
    "def inverse(A,M):\n",
    "    g=gcd(A,M)\n",
    "    if(g!=1):\n",
    "        print(\"Inverse doesn't exist\")\n",
    "    else:\n",
    "        r=(x%M+M)%M\n",
    "        return r\n",
    "if __name__=='__main__':\n",
    "    print(inverse(8,11))"
   ]
  },
  {
   "cell_type": "code",
   "execution_count": 3,
   "metadata": {},
   "outputs": [
    {
     "name": "stdout",
     "output_type": "stream",
     "text": [
      "18\n"
     ]
    }
   ],
   "source": [
    "def isPrime(x):\n",
    "    for i in range(2,(x//2)+1):\n",
    "        if x%i==0:\n",
    "            return False\n",
    "    return True\n",
    "def primeFactors(x):\n",
    "    factors=[]\n",
    "    for i in range(2, (x//2)+1):\n",
    "        if x%i==0 and isPrime(i):\n",
    "            factors.append(i)\n",
    "    return factors\n",
    "def phi(x):\n",
    "    if isPrime(x):\n",
    "        return(x-1)\n",
    "    else:\n",
    "        f=primeFactors(x)\n",
    "        phi=x\n",
    "        for i in f:\n",
    "            phi=phi*(1-(1/i))\n",
    "    return phi\n",
    "if __name__=='__main__':\n",
    "    print(int(phi(19)))\n"
   ]
  },
  {
   "cell_type": "markdown",
   "metadata": {},
   "source": [
    "LAB-2"
   ]
  },
  {
   "cell_type": "code",
   "execution_count": 7,
   "metadata": {},
   "outputs": [
    {
     "name": "stdout",
     "output_type": "stream",
     "text": [
      "primitive roots of 997 are [7, 11, 17, 21, 26, 28, 29, 33, 38, 41, 43, 44, 46, 47, 51, 61, 63, 65, 68, 70, 78, 84, 87, 95, 98, 99, 103, 104, 106, 110, 112, 114, 115, 116, 118, 123, 127, 129, 132, 138, 141, 142, 143, 146, 152, 153, 154, 157, 158, 163, 164, 170, 172, 175, 176, 178, 179, 181, 183, 184, 188, 189, 191, 195, 202, 204, 210, 211, 214, 217, 233, 234, 239, 241, 242, 244, 245, 251, 260, 261, 262, 265, 271, 272, 273, 274, 275, 278, 280, 281, 285, 290, 293, 294, 295, 297, 298, 302, 309, 312, 317, 318, 323, 330, 336, 338, 341, 342, 345, 346, 347, 348, 354, 355, 364, 365, 367, 369, 371, 380, 381, 383, 385, 387, 389, 391, 392, 395, 396, 410, 412, 413, 414, 416, 419, 423, 424, 425, 426, 429, 430, 433, 438, 440, 445, 446, 448, 454, 456, 459, 460, 462, 463, 464, 469, 470, 471, 472, 474, 479, 481, 487, 489, 492, 505, 508, 510, 516, 518, 523, 525, 526, 527, 528, 533, 534, 535, 537, 538, 541, 543, 549, 551, 552, 557, 559, 564, 567, 568, 571, 572, 573, 574, 578, 581, 583, 584, 585, 587, 601, 602, 605, 606, 608, 610, 612, 614, 616, 617, 626, 628, 630, 632, 633, 642, 643, 649, 650, 651, 652, 655, 656, 659, 661, 667, 674, 679, 680, 685, 688, 695, 699, 700, 702, 703, 704, 707, 712, 716, 717, 719, 722, 723, 724, 725, 726, 732, 735, 736, 737, 746, 752, 753, 755, 756, 758, 763, 764, 780, 783, 786, 787, 793, 795, 802, 806, 808, 809, 813, 814, 816, 818, 819, 821, 822, 825, 827, 833, 834, 839, 840, 843, 844, 845, 851, 854, 855, 856, 859, 865, 868, 870, 874, 879, 881, 882, 883, 885, 887, 891, 893, 894, 898, 899, 902, 910, 913, 919, 927, 929, 932, 934, 936, 946, 950, 951, 953, 954, 956, 959, 964, 968, 969, 971, 976, 980, 986, 990]\n",
      "G value is 29\n",
      "prime number is 997\n",
      "sender's secret message is 87\n",
      "Receiver's secret message is 555\n",
      "The value of sender's public message is 872\n",
      "The value of receiver's public message is 288\n",
      "The value of senders key is 863 and the value of receiver's key is 863\n",
      "6.570717811584473\n"
     ]
    }
   ],
   "source": [
    "import random\n",
    "import time\n",
    "\n",
    "class Sender:\n",
    "    def __init__(self,n):\n",
    "        self.a=random.randint(1,n-1)\n",
    "    def sender(self,prime,g):\n",
    "        x=(g**self.a)%prime\n",
    "        return x\n",
    "    def senderKey(self,y,prime):\n",
    "        self.key=(y**self.a)%prime\n",
    "        return self.key\n",
    "    \n",
    "\n",
    "class Receiver:\n",
    "    def __init__(self,n):\n",
    "        self.b=random.randint(1,n-1)\n",
    "    def receiver(self,prime,g):\n",
    "        self.y=(g**self.b)%prime\n",
    "        return self.y\n",
    "    def receiverKey(self,x,prime):\n",
    "        self.key=(x**self.b)%prime\n",
    "        return self.key\n",
    "    \n",
    "\n",
    "def primitiveRoots(n):\n",
    "    l=[]\n",
    "    for i in range(1,n):\n",
    "        s=set()\n",
    "        for j in range(1,n):\n",
    "            s.add((i**j)%n)\n",
    "        if len(s)==n-1:\n",
    "            l.append(i)\n",
    "    return l\n",
    "\n",
    "def main(n):\n",
    "    pr=primitiveRoots(n)\n",
    "    print(f\"primitive roots of {n} are {pr}\")\n",
    "    i=random.randint(0,len(pr)-1)\n",
    "    g=pr[i]\n",
    "    print(f\"G value is {g}\")\n",
    "    print(f\"prime number is {n}\")\n",
    "    s=Sender(n)\n",
    "    r=Receiver(n)\n",
    "    print(f\"sender's secret message is {s.a}\")\n",
    "    print(f\"Receiver's secret message is {r.b}\")\n",
    "    x=s.sender(n,g)\n",
    "    y=r.receiver(n,g)\n",
    "    print(f\"The value of sender's public message is {x}\")\n",
    "    print(f\"The value of receiver's public message is {y}\")\n",
    "    k1=r.receiverKey(x,n)\n",
    "    k2=s.senderKey(y,n)\n",
    "    print(f\"The value of senders key is {k1} and the value of receiver's key is {k2}\")\n",
    "\n",
    "if __name__=='__main__':\n",
    "    st=time.time()\n",
    "    n=997\n",
    "    if isPrime(n):\n",
    "        main(n)\n",
    "    else:\n",
    "        print(\"The number is not prime\")\n",
    "    et=time.time()\n",
    "    print(et-st)\n"
   ]
  },
  {
   "cell_type": "code",
   "execution_count": 10,
   "metadata": {},
   "outputs": [
    {
     "name": "stdout",
     "output_type": "stream",
     "text": [
      "\n",
      "8\n",
      "[[24, 14], [20, 14]]\n"
     ]
    }
   ],
   "source": [
    "def det(n,m):\n",
    "    return (n[0][0]*n[1][1])-(n[0][1]*n[1][0])%m\n",
    "def coefMatrix(n):\n",
    "    k=n[0][0]\n",
    "    r=n[1][1]\n",
    "    n[0][0]=r\n",
    "    n[1][1]=k\n",
    "    n[0][1]*=-1\n",
    "    n[1][0]*=-1\n",
    "    return n\n",
    "k=[[5,8],[17,3]]\n",
    "m=26\n",
    "r=coefMatrix(k)\n",
    "d=det(k,m)\n",
    "print()\n",
    "if egcd(d,m)==1:\n",
    "    s=d\n",
    "    inv=inverse(m,s)\n",
    "    for i in range(0,len(k)):\n",
    "        for j in range(0,len(k[i])):\n",
    "            r[i][j]=(r[i][j]*inv)%26\n",
    "    print(r)\n"
   ]
  },
  {
   "cell_type": "markdown",
   "metadata": {},
   "source": [
    "LAB-3"
   ]
  },
  {
   "cell_type": "code",
   "execution_count": 10,
   "metadata": {},
   "outputs": [
    {
     "name": "stdout",
     "output_type": "stream",
     "text": [
      "Sent Message: 3\n",
      "The cipher text is: 38\n",
      "RECEIVED MESSAGE:3.0\n"
     ]
    }
   ],
   "source": [
    "# RSA Encryption\n",
    "import random\n",
    "class Sender:\n",
    "    def encrypt(m):\n",
    "        print(f\"Sent Message: {m}\")\n",
    "        Public.ciphertext=(m**Public.public_key_of_receiver)%Public.n\n",
    "        print(f\"The cipher text is: {Public.ciphertext}\")\n",
    "class Receiver:\n",
    "    def __init__(self,p,q):\n",
    "        Public.n=p*q\n",
    "        self.phin=phi(Public.n)\n",
    "        self.public_key=random.randint(1,self.phin)\n",
    "        while gcd(self.phin,self.public_key)!=1:\n",
    "            self.public_key=random.randint(1,self.phin)\n",
    "        Public.public_key_of_receiver=self.public_key\n",
    "        self.private_key=inverse(self.public_key,self.phin)\n",
    "    def decrypt(self):\n",
    "        k=Public.ciphertext\n",
    "        r=self.private_key\n",
    "        i=Public.n\n",
    "        self.message=(k**r)%i\n",
    "        print(f\"RECEIVED MESSAGE:{self.message}\")\n",
    "class Public:\n",
    "    def __init__(self):\n",
    "        pass\n",
    "if __name__=='__main__':\n",
    "    R=Receiver(11,7)\n",
    "    S=Sender\n",
    "    S.encrypt(3)\n",
    "    R.decrypt()\n"
   ]
  },
  {
   "cell_type": "code",
   "execution_count": 9,
   "metadata": {},
   "outputs": [
    {
     "name": "stdout",
     "output_type": "stream",
     "text": [
      "23\n"
     ]
    }
   ],
   "source": [
    "class A:\n",
    "    def __init__(self,a,m):\n",
    "        self.a=a\n",
    "        self.m=m\n",
    "    def calculate_parameters(self,M):\n",
    "        self.r=int(M/self.m)\n",
    "        self.y=inverse(self.r,self.m)\n",
    "class B:\n",
    "    def __init__(self,a,m):\n",
    "        self.a=a\n",
    "        self.m=m\n",
    "    def calculate_parameters(self,M):\n",
    "        self.r=int(M/self.m)\n",
    "        self.y=inverse(self.r,self.m)\n",
    "class C:\n",
    "    def __init__(self,a,m):\n",
    "        self.a=a\n",
    "        self.m=m\n",
    "    def calculate_parameters(self,M):\n",
    "        self.r=int(M/self.m)\n",
    "        self.y=inverse(self.r,self.m)\n",
    "if __name__=='__main__':\n",
    "    m1=A(2,3)\n",
    "    m2=B(3,5)\n",
    "    m3=C(2,7)\n",
    "    M=m1.m*m2.m*m3.m\n",
    "    m1.calculate_parameters(M)\n",
    "    m2.calculate_parameters(M)\n",
    "    m3.calculate_parameters(M)\n",
    "    \n",
    "    x=((m1.a*m1.r*m1.y)+(m2.a*m2.r*m2.y)+(m3.a*m3.r*m3.y))%M\n",
    "    print(x)"
   ]
  },
  {
   "cell_type": "code",
   "execution_count": 38,
   "metadata": {},
   "outputs": [
    {
     "name": "stdout",
     "output_type": "stream",
     "text": [
      "4.0\n",
      "4.0\n",
      "4.0\n"
     ]
    }
   ],
   "source": [
    "import random\n",
    "class person1:\n",
    "    def __init__(self,p,g,n):\n",
    "        self.p=p\n",
    "        self.group=g\n",
    "        self.e=random.randint(1,n)\n",
    "        self.n=n\n",
    "        l=public()\n",
    "        l.setgeval((g**self.e)%self.p)\n",
    "    def setr(self):\n",
    "        self.gp=public.g[2]\n",
    "        self.gn=public.g[1]\n",
    "        r=((self.gn/self.gp)**self.e)%self.p\n",
    "        l=public()\n",
    "        l.setrval(r)\n",
    "    def getKey(self):\n",
    "        self.k=(((self.gp)**(self.n*self.e))*(public.r[2]**(self.n-1))*(public.r[1]**(self.n-2)))%self.p\n",
    "        print(self.k)\n",
    "class person2:\n",
    "        def __init__(self,p,g,n):\n",
    "            self.p=p\n",
    "            self.group=g\n",
    "            self.e=random.randint(1,n)\n",
    "            l=public()\n",
    "            l.setgeval((g**self.e)%self.p)\n",
    "        def setr(self):\n",
    "            self.gp=public.g[0]\n",
    "            self.gn=public.g[2]\n",
    "            r=((self.gn/self.gp)**self.e)%self.p\n",
    "            l=public()\n",
    "            l.setrval(r)\n",
    "        def getKey(self):\n",
    "            self.k=(((self.gp)**(self.n*self.e))*(public.r[2]**(self.n-1))*(public.r[1]**(self.n-2)))%self.p\n",
    "            print(self.k)\n",
    "class person3:\n",
    "        def __init__(self,p,g,n):\n",
    "            self.p=p\n",
    "            self.group=g\n",
    "            self.e=random.randint(1,n)\n",
    "            l=public()\n",
    "            l.setgeval((g**self.e)%self.p)\n",
    "        def setr(self):\n",
    "            self.gp=public.g[1]\n",
    "            self.gn=public.g[0]\n",
    "            r=((self.gn/self.gp)**self.e)%self.p\n",
    "            l=public()\n",
    "            l.setrval(r)\n",
    "        def getKey(self):\n",
    "            self.k=(((self.gp)**(self.n*self.e))*(public.r[2]**(self.n-1))*(public.r[1]**(self.n-2)))%self.p\n",
    "            print(self.k)\n",
    "class public:\n",
    "    g=[]\n",
    "    r=[]\n",
    "    def setgeval(self,r):\n",
    "        self.g.append(r)\n",
    "    def setrval(self,r):\n",
    "         self.r.append(r)\n",
    "if __name__=='__main__':\n",
    "    prime=11\n",
    "    group=2\n",
    "    p1=person1(prime,group,3)\n",
    "    \n",
    "    p2=person1(prime,group,3)\n",
    "\n",
    "    p3=person1(prime,group,3)\n",
    "    \n",
    "    p1.setr()\n",
    "    p2.setr()\n",
    "    p3.setr()\n",
    "    p1.getKey()\n",
    "    p2.getKey()\n",
    "    p3.getKey()\n",
    "    "
   ]
  },
  {
   "cell_type": "code",
   "execution_count": 3,
   "metadata": {},
   "outputs": [
    {
     "data": {
      "text/html": [
       "<div>\n",
       "<style scoped>\n",
       "    .dataframe tbody tr th:only-of-type {\n",
       "        vertical-align: middle;\n",
       "    }\n",
       "\n",
       "    .dataframe tbody tr th {\n",
       "        vertical-align: top;\n",
       "    }\n",
       "\n",
       "    .dataframe thead th {\n",
       "        text-align: right;\n",
       "    }\n",
       "</style>\n",
       "<table border=\"1\" class=\"dataframe\">\n",
       "  <thead>\n",
       "    <tr style=\"text-align: right;\">\n",
       "      <th></th>\n",
       "      <th>age</th>\n",
       "      <th>job</th>\n",
       "      <th>marital</th>\n",
       "      <th>education</th>\n",
       "      <th>default</th>\n",
       "      <th>housing</th>\n",
       "      <th>loan</th>\n",
       "      <th>contact</th>\n",
       "      <th>month</th>\n",
       "      <th>day_of_week</th>\n",
       "      <th>...</th>\n",
       "      <th>campaign</th>\n",
       "      <th>pdays</th>\n",
       "      <th>previous</th>\n",
       "      <th>poutcome</th>\n",
       "      <th>emp_var_rate</th>\n",
       "      <th>cons_price_idx</th>\n",
       "      <th>cons_conf_idx</th>\n",
       "      <th>euribor3m</th>\n",
       "      <th>nr_employed</th>\n",
       "      <th>y</th>\n",
       "    </tr>\n",
       "  </thead>\n",
       "  <tbody>\n",
       "  </tbody>\n",
       "</table>\n",
       "<p>0 rows × 21 columns</p>\n",
       "</div>"
      ],
      "text/plain": [
       "Empty DataFrame\n",
       "Columns: [age, job, marital, education, default, housing, loan, contact, month, day_of_week, duration, campaign, pdays, previous, poutcome, emp_var_rate, cons_price_idx, cons_conf_idx, euribor3m, nr_employed, y]\n",
       "Index: []\n",
       "\n",
       "[0 rows x 21 columns]"
      ]
     },
     "execution_count": 3,
     "metadata": {},
     "output_type": "execute_result"
    }
   ],
   "source": [
    "import matplotlib.pyplot as plt\n",
    "import numpy as np\n",
    "import pandas as pd\n",
    "\n",
    "# Read the CSV file into a DataFrame\n",
    "data = pd.read_csv(\"Book1.csv\")\n",
    "\n",
    "df = pd.DataFrame(data)\n",
    "df.head()"
   ]
  },
  {
   "cell_type": "code",
   "execution_count": 4,
   "metadata": {},
   "outputs": [
    {
     "name": "stdout",
     "output_type": "stream",
     "text": [
      "Alice: Hello everyone!\n",
      "Bob: Hello everyone!\n",
      "Charlie: Hello everyone!\n"
     ]
    }
   ],
   "source": [
    "\n",
    "members = [\"Alice\", \"Bob\", \"Charlie\"]\n",
    "\n",
    "\n",
    "shared_secret = \"secret_key\"\n",
    "\n",
    "def encrypt_message(message, member):\n",
    "  \n",
    "  return f\"[Encrypted for {member}]: {message} - {shared_secret}\"\n",
    "\n",
    "def decrypt_message(encrypted_message, member):\n",
    "  \n",
    "  if encrypted_message.endswith(shared_secret):\n",
    "    return encrypted_message.split(\": \")[-1].split(\" - \")[0]\n",
    "  else:\n",
    "    return \"Access Denied\"\n",
    "\n",
    "\n",
    "message = \"Hello everyone!\"\n",
    "encrypted_message = encrypt_message(message, \"ALL\")  \n",
    "\n",
    "\n",
    "for member in members:\n",
    "  decrypted_message = decrypt_message(encrypted_message, member)\n",
    "  print(f\"{member}: {decrypted_message}\")\n"
   ]
  },
  {
   "cell_type": "code",
   "execution_count": 1,
   "metadata": {},
   "outputs": [
    {
     "name": "stdout",
     "output_type": "stream",
     "text": [
      "The group key is: 18\n"
     ]
    }
   ],
   "source": [
    "import random\n",
    "\n",
    "def mod_exp(base, exponent, modulus):\n",
    "    return pow(base, exponent, modulus)\n",
    "\n",
    "def generate_private_key(prime):\n",
    "    return random.randint(2, prime - 2)\n",
    "\n",
    "class Node:\n",
    "    def __init__(self, value=None):\n",
    "        self.value = value\n",
    "        self.left = None\n",
    "        self.right = None\n",
    "        self.parent = None\n",
    "        self.bk = None  \n",
    "\n",
    "def calculate_group_key(node, prime, generator):\n",
    "    if node.left and node.right:\n",
    "        node.value = mod_exp(node.left.bk, node.right.value, prime)\n",
    "        node.bk = mod_exp(generator, node.value, prime)\n",
    "    elif node.left or node.right:\n",
    "        child = node.left if node.left else node.right\n",
    "        node.value = child.value\n",
    "        node.bk = child.bk\n",
    "    else:\n",
    "        node.value = generate_private_key(prime)\n",
    "        node.bk = mod_exp(generator, node.value, prime)\n",
    "\n",
    "\n",
    "if __name__ == \"__main__\":\n",
    "    prime = 23  \n",
    "    generator = 5  \n",
    "    root = Node()\n",
    "    root.left = Node()\n",
    "    root.right = Node()\n",
    "    root.left.left = Node()\n",
    "    root.left.right = Node()\n",
    "    root.right.left = Node()\n",
    "    root.right.right = Node()\n",
    "    \n",
    "    calculate_group_key(root.left.left, prime, generator)\n",
    "    calculate_group_key(root.left.right, prime, generator)\n",
    "    calculate_group_key(root.right.left, prime, generator)\n",
    "    calculate_group_key(root.right.right, prime, generator)\n",
    "    calculate_group_key(root.left, prime, generator)\n",
    "    calculate_group_key(root.right, prime, generator)\n",
    "    calculate_group_key(root, prime, generator)\n",
    "\n",
    "    print(f\"The group key is: {root.value}\")\n"
   ]
  },
  {
   "cell_type": "code",
   "execution_count": 50,
   "metadata": {},
   "outputs": [
    {
     "name": "stdout",
     "output_type": "stream",
     "text": [
      "Group Key is 3\n"
     ]
    }
   ],
   "source": [
    "import random\n",
    "def searchInDict(sid):\n",
    "    global b\n",
    "    global members\n",
    "    for i in members:\n",
    "        if members[i].get('id')==sid:\n",
    "            b.append(i)\n",
    "            return True\n",
    "    return False\n",
    "def getAssociateGroup(a):\n",
    "    global members\n",
    "    global b\n",
    "    b=[]\n",
    "    k=list(a.get('id'))\n",
    "    s=len(k)\n",
    "    for i in range (0,s):\n",
    "        r=k.copy()\n",
    "        t=s-i-1\n",
    "        if k[t]=='0':\n",
    "            r[t]='1'\n",
    "        else:\n",
    "            r[t]='0'\n",
    "        sid=''.join(r)\n",
    "        ll=searchInDict(sid)\n",
    "        if ll==False:\n",
    "            r.pop(s-1)\n",
    "            sid=''.join(r)\n",
    "            searchInDict(sid)\n",
    "    a.update({'Group':b})\n",
    "    return b\n",
    "def getBlindedKey(sid):\n",
    "    global members\n",
    "    for i in members:\n",
    "            if members[i].get('id')==sid:\n",
    "                k1=members[i].get('blindedKey')\n",
    "                return k1\n",
    "def computeUpperLevelKey(a):\n",
    "    global members,g,p\n",
    "    aa=list(a.get('id'))\n",
    "    aa.pop()\n",
    "    nid=''.join(aa)\n",
    "    if len(aa)!=0:\n",
    "        t=aa.copy()\n",
    "        t.append('0')\n",
    "        sid=''.join(t)\n",
    "        k1=getBlindedKey(sid)\n",
    "        t.pop()\n",
    "        t.append('1')\n",
    "        sid=''.join(t)\n",
    "        k2=getBlindedKey(sid)\n",
    "        if (k1 and k2):\n",
    "            key=k1^k2\n",
    "            members.update({nid:{'key':key}})\n",
    "            members[nid].update({'blindedKey':(g**members[nid].get('key'))%p})\n",
    "        else:\n",
    "            global late\n",
    "            late.append(a.get('id'))\n",
    "def computeGroupKey(a,b):\n",
    "    return(a.get('blindedKey')^b.get('blindedKey'))\n",
    "if __name__=='__main__':\n",
    "    global members,g,p,late\n",
    "    late=[]\n",
    "    g=6\n",
    "    p=11\n",
    "    members={'A':{'id':'000'},'B':{'id':'001'},'C':{'id':'010'},'D':{'id':'011'},'E':{'id':'100'},'F':{'id':'101'},'G':{'id':'110'},'H':{'id':'1110'},'I':{'id':'1111'}}\n",
    "    for i in members:\n",
    "        getAssociateGroup(members[i])\n",
    "        members[i].update({'key':random.randint(2,100)})\n",
    "        members[i].update({'blindedKey':(g**members[i].get('key'))%p})\n",
    "    for i in members:\n",
    "        for j in range (len(members[i]['Group'])):\n",
    "            members[i].update({members[i]['Group'][j]:members[members[i]['Group'][j]].get('blindedKey')})\n",
    "    for i in range(ord('A'),ord('J')):\n",
    "        computeUpperLevelKey(members[chr(i)])\n",
    "    members.update({'1':{'key':11,'blindedKey':6},'0':{'key':6,'blindedKey':5}})\n",
    "    key=computeGroupKey(members['0'],members['1'])\n",
    "    print(f'Group Key is {key}')"
   ]
  },
  {
   "cell_type": "code",
   "execution_count": 1,
   "metadata": {},
   "outputs": [
    {
     "name": "stdout",
     "output_type": "stream",
     "text": [
      "Match Found\n"
     ]
    }
   ],
   "source": [
    "#TAYLOR Scheme\n",
    "import random\n",
    "import math\n",
    "def mod_inverse(e, phi):   \n",
    "    return pow(e, phi - 2, phi)\n",
    "\n",
    "def modulo(base, exp, mod):    \n",
    "    phi = math.factorial(mod - 1) // math.factorial(mod - 1 - (mod - 2)) // math.factorial(2)  \n",
    "    e = mod_inverse(exp, phi)    \n",
    "    return pow(base, e, mod)\n",
    "def isPrime(n):\n",
    "    if n<2:\n",
    "        return False\n",
    "    for i in range(2, int(n**0.5) + 1):\n",
    "        if n % i == 0:\n",
    "            return False\n",
    "    return True\n",
    "def randomPrime(min,max):\n",
    "    n=random.randint(min,max)\n",
    "    while not isPrime(n):\n",
    "        n=random.randint(min,max)\n",
    "    return n\n",
    "def generateKeys(group,M,S):\n",
    "    for i in range(1,7):\n",
    "        group[f'v{i}'].update({'K':modulo(S,group[f'v{i}']['l'],M)})\n",
    "def calculateKeys(k,r,group,M):\n",
    "    key=group[f'v{r}']['K']\n",
    "    calKey=modulo(group[f'v{k}']['K'],int(group[f'v{r}']['l']/group[f'v{k}']['l']),M)\n",
    "    if key==calKey:\n",
    "        return True\n",
    "    return False\n",
    "P=randomPrime(2,100)\n",
    "Q=randomPrime(2,100)\n",
    "M=P*Q\n",
    "S=random.randint(2,M-1)\n",
    "group={}\n",
    "for i in range(1,7):\n",
    "    group.update({f\"v{i}\":{\"p\":randomPrime(2,100)}})\n",
    "group['v1'].update({'l':1})\n",
    "group['v2'].update({'l':group['v3']['p']*group['v1']['p']*group['v6']['p']})\n",
    "group['v3'].update({'l':group['v2']['p']*group['v1']['p']*group['v4']['p']})\n",
    "group['v4'].update({'l':group['v3']['p']*group['v1']['p']*group['v6']['p']*group['v2']['p']*group['v5']['p']})\n",
    "group['v5'].update({'l':group['v3']['p']*group['v1']['p']*group['v6']['p']*group['v2']['p']*group['v4']['p']})\n",
    "group['v6'].update({'l':group['v3']['p']*group['v1']['p']*group['v4']['p']*group['v2']['p']*group['v5']['p']})\n",
    "generateKeys(group,M,S)\n",
    "k=int(input('Enter the group member 1 which calculates the key'))\n",
    "r=int(input('Enter the group member 2 whose key is being calculated'))\n",
    "if calculateKeys(k,r,group,M):\n",
    "    print('Match Found')"
   ]
  },
  {
   "cell_type": "code",
   "execution_count": 1,
   "metadata": {},
   "outputs": [
    {
     "name": "stdout",
     "output_type": "stream",
     "text": [
      "4\n"
     ]
    }
   ],
   "source": [
    "(S**group[f'v{i}']['l'])%M"
   ]
  },
  {
   "cell_type": "code",
   "execution_count": null,
   "metadata": {},
   "outputs": [],
   "source": [
    "    def calculateKeys(self):\n",
    "        key=self.group[f'v{self.r}']['K']\n",
    "        calKey=self.modulo(self.group[f'v{self.k}']['K'],self.group[f'v{self.k}']['l']/self.group[f'v{self.r}']['l'],M)\n",
    "        if key==calKey:\n",
    "            return True\n",
    "        return False"
   ]
  },
  {
   "cell_type": "code",
   "execution_count": 40,
   "metadata": {},
   "outputs": [
    {
     "name": "stdout",
     "output_type": "stream",
     "text": [
      "7\n",
      "3\n",
      "10\n",
      "Key of A: 8.200000000011642\n",
      "Key of B: 8.875\n",
      "a\n",
      "30517578125\n",
      "3051757812500\n",
      "24414062500000.0\n",
      "Key of C: 8.0\n"
     ]
    }
   ],
   "source": [
    "import math\n",
    "x,y=0,1\n",
    "def gcd(a,b):\n",
    "    global x,y\n",
    "    if (a==0):\n",
    "        x=0\n",
    "        y=1\n",
    "        return b\n",
    "    gc=gcd(b%a,a)\n",
    "    x1=x\n",
    "    y1=y\n",
    "    x=y1-(b//a)*x1\n",
    "    y=x1\n",
    "    return gc\n",
    "def inverse(A,M):\n",
    "    g=gcd(A,M)\n",
    "    if(g!=1):\n",
    "        print(\"Inverse doesn't exist\")\n",
    "    else:\n",
    "        r=(x%M+M)%M\n",
    "        return r\n",
    "class A:\n",
    "    e1=3\n",
    "    global g1\n",
    "    global r1\n",
    "    def __init__(self)->None:\n",
    "        global P\n",
    "        self.g1=(g**self.e1)%P\n",
    "    def calR(self):\n",
    "        self.r1=((B().g2*inverse(C().g3,P))**self.e1)%P\n",
    "        print(self.r1)\n",
    "    def calculateKey(self):\n",
    "        key=(((C().g3)**self.e1*3)*(self.r1**2)*(r2))%P\n",
    "        return key\n",
    "class B:\n",
    "    e2=4\n",
    "    global g2\n",
    "    global r2\n",
    "    def __init__(self)->None:\n",
    "        self.g2=(g**self.e2)%P\n",
    "    def calR(self):\n",
    "        self.r2=((C().g3*inverse(A().g1,P))**self.e2)%P\n",
    "        print(self.r2)\n",
    "    def calculateKey(self):\n",
    "        key=(((A().g1)**self.e2*3)*(self.r2**2)*(r3))%P\n",
    "        return key\n",
    "class C:\n",
    "    e3=5\n",
    "    global g3\n",
    "    global r3\n",
    "    def __init__(self)->None:\n",
    "        self.g3=(g**self.e3)%P\n",
    "    def calR(self):\n",
    "        self.r3=((A().g1*inverse(B().g2,P))**self.e3)%P\n",
    "        print(self.r3)\n",
    "    def calculateKey(self):\n",
    "        print('a')\n",
    "        key=(B().g2)**(3*self.e3)\n",
    "        print(key)\n",
    "        key=key*(self.r3)**(2)\n",
    "        print(key)\n",
    "        key=key*r1\n",
    "        print(key)\n",
    "        key=key%P\n",
    "        return key\n",
    "\n",
    "if __name__=='__main__':\n",
    "    global P\n",
    "    global g\n",
    "    P=11\n",
    "    g=2\n",
    "    a=A()\n",
    "    b=B()\n",
    "    c=C()\n",
    "    a.calR()\n",
    "    b.calR()\n",
    "    c.calR()\n",
    "    print(\"Key of A:\",a.calculateKey())\n",
    "    print(\"Key of B:\",b.calculateKey())\n",
    "    print(\"Key of C:\",c.calculateKey())"
   ]
  },
  {
   "cell_type": "code",
   "execution_count": 64,
   "metadata": {},
   "outputs": [
    {
     "name": "stdout",
     "output_type": "stream",
     "text": [
      "{'A0': {'e0': 3, 'G0': 8, 'R0': 7, 'K0': 7}, 'A1': {'e1': 4, 'G1': 5, 'R1': 3, 'K1': 7}, 'A2': {'e2': 5, 'G2': 10, 'R2': 10, 'K2': 7}}\n",
      "7\n",
      "7\n",
      "7\n"
     ]
    }
   ],
   "source": [
    "dict={'A0':{'e0':3},'A1':{'e1':4},'A2':{'e2':5}}\n",
    "p=11\n",
    "g=2\n",
    "for i in range(3):\n",
    "    dict[f'A{i}'].update({f'G{i}':(g**dict[f'A{i}'].get(f'e{i}'))%p})\n",
    "for i in range(3):\n",
    "    k=dict[f'A{(i+1)%3}'].get(f'G{(i+1)%3}')\n",
    "    r=dict[f'A{(i-1)%3}'].get(f'G{(i-1)%3}')\n",
    "    t=k*inverse(r,p)\n",
    "    t=t**dict[f'A{i}'][f'e{i}']\n",
    "    t=t%p\n",
    "    dict[f'A{i}'].update({f'R{i}':t})\n",
    "for i in range(3):\n",
    "    r=dict[f'A{(i-1)%3}'].get(f'G{(i-1)%3}')\n",
    "    e=dict[f'A{i}'].get(f'e{i}')\n",
    "    k=r**(3*e)\n",
    "    k=k*(dict[f'A{i}'].get(f'R{i}')**2)\n",
    "    k=k*(dict[f'A{(i+1)%3}'].get(f'R{(i+1)%3}'))\n",
    "    k=k%p\n",
    "    dict[f'A{i}'].update({f'K{i}':k})\n",
    "\n",
    "for i in range (3):\n",
    "    print(dict[f'A{i}'].get(f'K{i}'))"
   ]
  },
  {
   "cell_type": "code",
   "execution_count": 1,
   "metadata": {},
   "outputs": [
    {
     "name": "stdout",
     "output_type": "stream",
     "text": [
      "37\n"
     ]
    }
   ],
   "source": [
    "print(pow(13,-1,60))"
   ]
  }
 ],
 "metadata": {
  "kernelspec": {
   "display_name": "Python 3",
   "language": "python",
   "name": "python3"
  },
  "language_info": {
   "codemirror_mode": {
    "name": "ipython",
    "version": 3
   },
   "file_extension": ".py",
   "mimetype": "text/x-python",
   "name": "python",
   "nbconvert_exporter": "python",
   "pygments_lexer": "ipython3",
   "version": "3.11.9"
  }
 },
 "nbformat": 4,
 "nbformat_minor": 2
}
